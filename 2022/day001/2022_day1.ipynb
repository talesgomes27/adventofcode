{
 "cells": [
  {
   "cell_type": "markdown",
   "id": "65d374fc",
   "metadata": {},
   "source": [
    "## 1) find the elve that have the most calories in his bag!"
   ]
  },
  {
   "cell_type": "code",
   "execution_count": 6,
   "id": "4d11249c",
   "metadata": {},
   "outputs": [],
   "source": [
    "elves = []\n",
    "count_calories = 0\n",
    "\n",
    "with open('adventofcode.com_2022_day_1_input.txt', 'r') as calories_log:\n",
    "    calories = calories_log.readlines()\n",
    "    \n",
    "    for calorie_entry in calories:\n",
    "        if calorie_entry.strip():\n",
    "            count_calories += int(calorie_entry)\n",
    "        else:\n",
    "            elves.append(count_calories)\n",
    "            count_calories = 0"
   ]
  },
  {
   "cell_type": "code",
   "execution_count": 4,
   "id": "643dfda5",
   "metadata": {},
   "outputs": [
    {
     "name": "stdout",
     "output_type": "stream",
     "text": [
      "the elve with more calories 70764\n"
     ]
    }
   ],
   "source": [
    "top_elve = max(elves)\n",
    "\n",
    "print(f\"the elve with more calories {top_elve}\")"
   ]
  },
  {
   "cell_type": "markdown",
   "id": "67cde2ce",
   "metadata": {},
   "source": [
    "## 2)  Top Three Elves carring more calories!"
   ]
  },
  {
   "cell_type": "code",
   "execution_count": 5,
   "id": "4a7605b1",
   "metadata": {},
   "outputs": [
    {
     "name": "stdout",
     "output_type": "stream",
     "text": [
      "The top three elves have 203905 calories in total\n"
     ]
    }
   ],
   "source": [
    "elves.sort(reverse=True)\n",
    "\n",
    "top_three_elves = sum(elves[:3])\n",
    "\n",
    "print(f\"The top three elves have {top_three_elves} calories in total\") "
   ]
  }
 ],
 "metadata": {
  "kernelspec": {
   "display_name": "Python 3 (ipykernel)",
   "language": "python",
   "name": "python3"
  },
  "language_info": {
   "codemirror_mode": {
    "name": "ipython",
    "version": 3
   },
   "file_extension": ".py",
   "mimetype": "text/x-python",
   "name": "python",
   "nbconvert_exporter": "python",
   "pygments_lexer": "ipython3",
   "version": "3.10.11"
  }
 },
 "nbformat": 4,
 "nbformat_minor": 5
}
