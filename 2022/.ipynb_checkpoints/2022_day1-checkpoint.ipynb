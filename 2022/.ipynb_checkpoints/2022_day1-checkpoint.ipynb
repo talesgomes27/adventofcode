{
 "cells": [
  {
   "cell_type": "markdown",
   "id": "65d374fc",
   "metadata": {},
   "source": [
    "## 1) find the elve that have the most calories in his bag!"
   ]
  },
  {
   "cell_type": "code",
   "execution_count": 1,
   "id": "4d11249c",
   "metadata": {},
   "outputs": [],
   "source": [
    "calories = []\n",
    "count = 0\n",
    "\n",
    "# open file\n",
    "with open('day1.txt', 'r') as f:\n",
    "    lines = f.readlines()\n",
    "    \n",
    "    # iterate and look for a empty line\n",
    "    for line in lines:\n",
    "        if line.strip():\n",
    "            count += int(line)\n",
    "        else:\n",
    "            calories.append(count)\n",
    "            count = 0"
   ]
  },
  {
   "cell_type": "code",
   "execution_count": 32,
   "id": "643dfda5",
   "metadata": {},
   "outputs": [
    {
     "data": {
      "text/plain": [
       "70764"
      ]
     },
     "execution_count": 32,
     "metadata": {},
     "output_type": "execute_result"
    }
   ],
   "source": [
    "max(calories)"
   ]
  },
  {
   "cell_type": "markdown",
   "id": "c1450c29",
   "metadata": {},
   "source": [
    "## 2)  Top Three Elves caring more calories!"
   ]
  },
  {
   "cell_type": "code",
   "execution_count": null,
   "id": "76501977",
   "metadata": {},
   "outputs": [],
   "source": []
  },
  {
   "cell_type": "raw",
   "id": "d01e4e2c",
   "metadata": {},
   "source": [
    "calories.sort(reverse=True)\n",
    "top_three = sum(calories[:3])\n",
    "print(\"The top three elves have {top_three} c\") "
   ]
  }
 ],
 "metadata": {
  "kernelspec": {
   "display_name": "Python 3 (ipykernel)",
   "language": "python",
   "name": "python3"
  },
  "language_info": {
   "codemirror_mode": {
    "name": "ipython",
    "version": 3
   },
   "file_extension": ".py",
   "mimetype": "text/x-python",
   "name": "python",
   "nbconvert_exporter": "python",
   "pygments_lexer": "ipython3",
   "version": "3.10.11"
  }
 },
 "nbformat": 4,
 "nbformat_minor": 5
}
