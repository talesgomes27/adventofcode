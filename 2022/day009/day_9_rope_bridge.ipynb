{
 "cells": [
  {
   "cell_type": "code",
   "execution_count": 1,
   "id": "78404d3e",
   "metadata": {},
   "outputs": [],
   "source": [
    "import numpy as np\n",
    "import pandas as pd"
   ]
  },
  {
   "cell_type": "code",
   "execution_count": 2,
   "id": "fabd3659",
   "metadata": {},
   "outputs": [],
   "source": [
    "def find_location(walk_field:np.ndarray):\n",
    "    \n",
    "    if len(tuple(np.argwhere(walk_field == 3))) == 0:\n",
    "        \n",
    "        head_location = tuple(\n",
    "            np.argwhere(walk_field == 2)[0]\n",
    "        )\n",
    "\n",
    "        tail_location = tuple(\n",
    "            np.argwhere(walk_field == 1)[0]\n",
    "        )\n",
    "\n",
    "        return [head_location, tail_location]\n",
    "    else:\n",
    "        \n",
    "        position = tuple(\n",
    "            np.argwhere(walk_field == 3)[0]\n",
    "        )\n",
    "        \n",
    "        return [position, position]\n",
    "    \n",
    "\n"
   ]
  },
  {
   "cell_type": "code",
   "execution_count": 3,
   "id": "afdb351c",
   "metadata": {},
   "outputs": [],
   "source": [
    "def calculate_distance(walk_field:np.ndarray):\n",
    "    \n",
    "    location = find_location(walk_field)\n",
    "    \n",
    "    \n",
    "    position_head = np.array(location[0])\n",
    "    position_tail = np.array(location[1])\n",
    " \n",
    "    dist = np.linalg.norm(position_head - position_tail)\n",
    "    \n",
    "    return dist\n",
    " \n",
    "    "
   ]
  },
  {
   "cell_type": "code",
   "execution_count": 4,
   "id": "522359e6",
   "metadata": {},
   "outputs": [],
   "source": [
    "def move_head(directions:str, steps:int, walk_field:np.array, tail_history:np.array, HEAD=2):\n",
    "    \n",
    "    for number in range(steps):\n",
    "        \n",
    "        position_head, position_tail = find_location(walk_field)\n",
    "        \n",
    "        walk_field[position_head] -= HEAD\n",
    "        \n",
    "        match directions:\n",
    "            case 'R':\n",
    "                new_position = (position_head[0], (position_head[1] + 1))\n",
    "                \n",
    "                walk_field[new_position] += HEAD\n",
    "                move_tail(directions, steps, walk_field, tail_history)\n",
    "            \n",
    "            case 'L':\n",
    "                new_position = (position_head[0], (position_head[1] - 1))\n",
    "                \n",
    "                walk_field[new_position] += HEAD\n",
    "                move_tail(directions, steps, walk_field, tail_history)\n",
    "            \n",
    "            case 'U':\n",
    "                new_position = ((position_head[0] - 1), position_head[1])\n",
    "                \n",
    "                walk_field[new_position] += HEAD\n",
    "                move_tail(directions, steps, walk_field, tail_history)\n",
    "            \n",
    "            case 'D':\n",
    "                new_position = ((position_head[0] + 1), position_head[1])\n",
    "                \n",
    "                walk_field[new_position] += HEAD\n",
    "                move_tail(directions, steps, walk_field, tail_history)\n",
    "            \n"
   ]
  },
  {
   "cell_type": "code",
   "execution_count": 5,
   "id": "4a204907",
   "metadata": {},
   "outputs": [],
   "source": [
    "def move_tail(directions:str, steps:int, walk_field:np.array, tail_history:np.array, TAIL=1):\n",
    "    \n",
    "    distance = calculate_distance(walk_field)\n",
    "    position_head, position_tail = find_location(walk_field)\n",
    "    \n",
    "    column_position = position_head[1] - position_tail[1]\n",
    "    row_position = position_head[0] - position_tail[0]\n",
    "    \n",
    "    tail_history[position_tail] = 1\n",
    "    \n",
    "\n",
    "    if distance >= 2:\n",
    "        #print(f\"Distance is {distance}, moving tail!\")\n",
    "        \n",
    "        walk_field[position_tail] -= TAIL\n",
    "        \n",
    "        match directions:\n",
    "            \n",
    "            case 'R':\n",
    "                if row_position == 0: \n",
    "                    walk_field[position_tail[0], (position_tail[1] + 1)] += TAIL\n",
    "                else:\n",
    "                    walk_field[position_tail[0] + row_position, (position_tail[1] + 1)] += TAIL\n",
    "            \n",
    "            case 'L':\n",
    "                if row_position == 0:\n",
    "                    walk_field[position_tail[0], (position_tail[1] - 1)] += TAIL\n",
    "                else:\n",
    "                    walk_field[position_tail[0] + row_position, (position_tail[1] - 1)] += TAIL\n",
    "            \n",
    "            case 'U':\n",
    "                if column_position == 0:\n",
    "                    walk_field[(position_tail[0] - 1), position_tail[1]] += TAIL\n",
    "                else:\n",
    "                    walk_field[(position_tail[0] - 1), (position_tail[1] + column_position)] += TAIL\n",
    "\n",
    "            \n",
    "            case 'D':\n",
    "                if column_position == 0:\n",
    "                    walk_field[(position_tail[0] + 1), position_tail[1]] += TAIL\n",
    "\n",
    "                else:\n",
    "                    walk_field[(position_tail[0] + 1), (position_tail[1] + column_position)] += TAIL\n",
    "\n",
    "                    "
   ]
  },
  {
   "cell_type": "code",
   "execution_count": 6,
   "id": "d0f32931",
   "metadata": {},
   "outputs": [],
   "source": [
    "rope_bridge_df = pd.read_table('adventofcode.com_2022_day_9_input.txt', delimiter=' ', names=['direction', 'steps'])\n",
    "rope_bridge_df['steps'] = rope_bridge_df.steps.astype(int)"
   ]
  },
  {
   "cell_type": "code",
   "execution_count": 7,
   "id": "2aa22be3",
   "metadata": {},
   "outputs": [],
   "source": [
    "num_max = rope_bridge_df.steps.max()\n",
    "array_size = num_max * num_max * 2 + 2\n",
    "inicial_position = array_size // 2\n",
    "\n",
    "HEAD = 2\n",
    "TAIL = 1"
   ]
  },
  {
   "cell_type": "code",
   "execution_count": 8,
   "id": "5464905e",
   "metadata": {},
   "outputs": [],
   "source": [
    "walk_field = pd.DataFrame(0, index=range(array_size), columns=range(array_size)).values\n",
    "tail_history = pd.DataFrame(0, index=range(array_size), columns=range(array_size)).values\n",
    "\n",
    "walk_field[inicial_position,inicial_position] = HEAD + TAIL"
   ]
  },
  {
   "cell_type": "code",
   "execution_count": 9,
   "id": "0d3b005d",
   "metadata": {},
   "outputs": [
    {
     "name": "stdout",
     "output_type": "stream",
     "text": [
      "Starting...\n",
      "\n",
      "the tail goes into 6098 positions at least one time\n",
      "Time Elapsed: 109.52150678634644\n"
     ]
    }
   ],
   "source": [
    "import time\n",
    "\n",
    "start = time.time()\n",
    "\n",
    "print('Starting...\\n')\n",
    "for index, row in rope_bridge_df.iterrows():\n",
    "    move_head(row[0], row[1], walk_field=walk_field, tail_history=tail_history)\n",
    "    \n",
    "part_one = tail_history.sum()\n",
    "print(f\"the tail goes into {part_one} positions at least one time\")    \n",
    "\n",
    "end = time.time()\n",
    "print(f\"Time Elapsed: {end - start}\")"
   ]
  }
 ],
 "metadata": {
  "kernelspec": {
   "display_name": "Python 3 (ipykernel)",
   "language": "python",
   "name": "python3"
  },
  "language_info": {
   "codemirror_mode": {
    "name": "ipython",
    "version": 3
   },
   "file_extension": ".py",
   "mimetype": "text/x-python",
   "name": "python",
   "nbconvert_exporter": "python",
   "pygments_lexer": "ipython3",
   "version": "3.10.11"
  }
 },
 "nbformat": 4,
 "nbformat_minor": 5
}
