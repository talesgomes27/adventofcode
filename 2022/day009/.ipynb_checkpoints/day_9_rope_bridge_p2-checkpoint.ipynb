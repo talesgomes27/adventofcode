{
 "cells": [
  {
   "cell_type": "code",
   "execution_count": 589,
   "id": "955418b4",
   "metadata": {},
   "outputs": [],
   "source": [
    "import numpy as np"
   ]
  },
  {
   "cell_type": "code",
   "execution_count": 590,
   "id": "8e9c7294",
   "metadata": {},
   "outputs": [],
   "source": [
    "def move_diagonally(head, tail, direction):\n",
    "    head_0, head_1 = tuple(head)\n",
    "    tail_0, tail_1 = tuple(tail)\n",
    "    \n",
    "    match direction:\n",
    "        case 'R':\n",
    "            if tail_0 > head_0:\n",
    "                return np.array([-1,1]) \n",
    "            else:\n",
    "                return np.array([1,1]) \n",
    "        case 'L':\n",
    "            if tail_0 > head_0:\n",
    "                return np.array([-1,-1]) \n",
    "            else:\n",
    "                return np.array([1,-1])\n",
    "        case 'D':\n",
    "            if tail_1 > head_1:\n",
    "                return np.array([1,-1]) \n",
    "            else:\n",
    "                return np.array([1,1])\n",
    "        case 'U':\n",
    "            if tail_1 > head_1:\n",
    "                return np.array([-1,-1]) \n",
    "            else:\n",
    "                return np.array([-1,1])\n",
    "            \n"
   ]
  },
  {
   "cell_type": "code",
   "execution_count": 591,
   "id": "cc1266e1",
   "metadata": {},
   "outputs": [],
   "source": [
    "with open('adventofcode.com_2022_day_9.txt', 'r') as file:\n",
    "    commands = [(line.split(' ')[0], int(line.split(' ')[1])) for line \n",
    "                in file.read().split('\\n') if len(line) > 0]"
   ]
  },
  {
   "cell_type": "code",
   "execution_count": 592,
   "id": "8bfe1b38",
   "metadata": {},
   "outputs": [],
   "source": [
    "moves = {'R':np.array([0,1]),\n",
    "         'L':np.array([0,-1]),\n",
    "         'D':np.array([1,0]),\n",
    "         'U':np.array([-1,0])}\n",
    "\n",
    "\n",
    "move_history = set()\n",
    "head = np.array([0,0])\n",
    "tail = np.array([0,0])"
   ]
  },
  {
   "cell_type": "code",
   "execution_count": 593,
   "id": "ceb4eede",
   "metadata": {},
   "outputs": [
    {
     "name": "stdout",
     "output_type": "stream",
     "text": [
      "the tail goes into 6098 positions at least one time\n"
     ]
    }
   ],
   "source": [
    "for (direction, steps) in commands:\n",
    "    \n",
    "    for step in range(steps):\n",
    "        head = head + moves[direction] \n",
    "        \n",
    "        move_history.add(tuple(tail))\n",
    "        \n",
    "        if np.linalg.norm(head - tail) >= 2:\n",
    "            if (head[0] != tail[0]) & (head[1] != tail[1]):\n",
    "                tail = tail + move_diagonally(head, tail, direction) \n",
    "            else:\n",
    "                tail = tail + moves[direction]\n",
    "                \n",
    "        else:\n",
    "            pass\n",
    "        move_history.add(tuple(tail))\n",
    "\n",
    "part_one = len(move_history)\n",
    "print(f\"the tail goes into {part_one} positions at least one time\")"
   ]
  }
 ],
 "metadata": {
  "kernelspec": {
   "display_name": "Python 3 (ipykernel)",
   "language": "python",
   "name": "python3"
  },
  "language_info": {
   "codemirror_mode": {
    "name": "ipython",
    "version": 3
   },
   "file_extension": ".py",
   "mimetype": "text/x-python",
   "name": "python",
   "nbconvert_exporter": "python",
   "pygments_lexer": "ipython3",
   "version": "3.10.11"
  }
 },
 "nbformat": 4,
 "nbformat_minor": 5
}
