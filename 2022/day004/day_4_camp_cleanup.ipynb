{
 "cells": [
  {
   "cell_type": "markdown",
   "id": "fdcc3e0a",
   "metadata": {},
   "source": [
    "# Day 4: Camp Cleanup"
   ]
  },
  {
   "cell_type": "markdown",
   "id": "3590398d",
   "metadata": {},
   "source": [
    "## Part One"
   ]
  },
  {
   "cell_type": "markdown",
   "id": "5637edec",
   "metadata": {},
   "source": [
    "Space needs to be cleared before the last supplies can be unloaded from the ships, and so several Elves have been assigned the job of cleaning up sections of the camp. Every section has a unique ID number, and each Elf is assigned a range of section IDs.\n",
    "\n",
    "However, as some of the Elves compare their section assignments with each other, they've noticed that many of the assignments overlap. To try to quickly find overlaps and reduce duplicated effort, the Elves pair up and make a big list of the section assignments for each pair (your puzzle input).\n",
    "\n",
    "For example, consider the following list of section assignment pairs:"
   ]
  },
  {
   "cell_type": "raw",
   "id": "1b3b45d7",
   "metadata": {},
   "source": [
    "2-4,6-8\n",
    "2-3,4-5\n",
    "5-7,7-9\n",
    "2-8,3-7\n",
    "6-6,4-6\n",
    "2-6,4-8"
   ]
  },
  {
   "cell_type": "markdown",
   "id": "ec419ac8",
   "metadata": {},
   "source": [
    "For the first few pairs, this list means:\n",
    "\n",
    " - Within the first pair of Elves, the first Elf was assigned sections 2-4 (sections 2, 3, and 4), while the second Elf was assigned sections 6-8 (sections 6, 7, 8).\n",
    " - The Elves in the second pair were each assigned two sections.\n",
    " - The Elves in the third pair were each assigned three sections: one got sections 5, 6, and 7, while the other also got 7, plus 8 and 9.\n",
    "\n",
    "This example list uses single-digit section IDs to make it easier to draw; your actual list might contain larger numbers. Visually, these pairs of section assignments look like this:"
   ]
  },
  {
   "cell_type": "raw",
   "id": "d24abe20",
   "metadata": {},
   "source": [
    ".234.....  2-4\n",
    ".....678.  6-8\n",
    "\n",
    ".23......  2-3\n",
    "...45....  4-5\n",
    "\n",
    "....567..  5-7\n",
    "......789  7-9\n",
    "\n",
    ".2345678.  2-8\n",
    "..34567..  3-7\n",
    "\n",
    ".....6...  6-6\n",
    "...456...  4-6\n",
    "\n",
    ".23456...  2-6\n",
    "...45678.  4-8"
   ]
  },
  {
   "cell_type": "markdown",
   "id": "b02c4c37",
   "metadata": {},
   "source": [
    "Some of the pairs have noticed that one of their assignments fully contains the other. For example, 2-8 fully contains 3-7, and 6-6 is fully contained by 4-6. In pairs where one assignment fully contains the other, one Elf in the pair would be exclusively cleaning sections their partner will already be cleaning, so these seem like the most in need of reconsideration. In this example, there are 2 such pairs."
   ]
  },
  {
   "cell_type": "markdown",
   "id": "3046cb3c",
   "metadata": {},
   "source": [
    "In how many assignment pairs does one range fully contain the other?"
   ]
  },
  {
   "cell_type": "markdown",
   "id": "88a2f3f1",
   "metadata": {},
   "source": [
    "## Part Two"
   ]
  },
  {
   "cell_type": "markdown",
   "id": "1f8ee852",
   "metadata": {},
   "source": [
    "It seems like there is still quite a bit of duplicate work planned. Instead, the Elves would like to know the number of pairs that overlap at all.\n",
    "\n",
    "In the above example, the first two pairs (2-4,6-8 and 2-3,4-5) don't overlap, while the remaining four pairs (5-7,7-9, 2-8,3-7, 6-6,4-6, and 2-6,4-8) do overlap:"
   ]
  },
  {
   "cell_type": "markdown",
   "id": "8a2a0d13",
   "metadata": {},
   "source": [
    " - 5-7,7-9 overlaps in a single section, 7.\n",
    " - 2-8,3-7 overlaps all of the sections 3 through 7.\n",
    " - 6-6,4-6 overlaps in a single section, 6.\n",
    " - 2-6,4-8 overlaps in sections 4, 5, and 6.\n"
   ]
  },
  {
   "cell_type": "markdown",
   "id": "6ab86bb9",
   "metadata": {},
   "source": [
    "So, in this example, the number of overlapping assignment pairs is 4.\n",
    "\n",
    "In how many assignment pairs do the ranges overlap?"
   ]
  },
  {
   "cell_type": "markdown",
   "id": "aca228b4",
   "metadata": {},
   "source": [
    "## Auxiliary functions"
   ]
  },
  {
   "cell_type": "code",
   "execution_count": 187,
   "id": "c45eb6ac",
   "metadata": {},
   "outputs": [],
   "source": [
    "def verify_containment(pair_lst_1, pair_lst_2):\n",
    "    full_containment_lst = []\n",
    "    partial_containment_lst = []\n",
    "    \n",
    "    \n",
    "    for pair_1, pair_2 in zip(pair_lst_1, pair_lst_2):\n",
    "    \n",
    "        set_one = set(range(pair_1[0],\n",
    "                            pair_1[1] + 1\n",
    "                           )\n",
    "                     )\n",
    "\n",
    "        set_two = set(range(pair_2[0],\n",
    "                            pair_2[1] + 1\n",
    "                           )\n",
    "                     )\n",
    "\n",
    "\n",
    "\n",
    "        intersect = set_one.intersection(set_two)\n",
    "        \n",
    "        \n",
    "        # Full containment\n",
    "        if intersect == set_one or intersect == set_two:\n",
    "            full_containment_lst.append(1)\n",
    "        else:\n",
    "            full_containment_lst.append(0)\n",
    "        \n",
    "        \n",
    "        # Partial containment\n",
    "        if not intersect:\n",
    "            partial_containment_lst.append(0)\n",
    "        else:\n",
    "             partial_containment_lst.append(1)\n",
    "            \n",
    "    \n",
    "    return [full_containment_lst,partial_containment_lst]\n",
    "\n"
   ]
  },
  {
   "cell_type": "markdown",
   "id": "35025d6b",
   "metadata": {},
   "source": [
    "## Answer"
   ]
  },
  {
   "cell_type": "code",
   "execution_count": 188,
   "id": "005d1fd8",
   "metadata": {},
   "outputs": [],
   "source": [
    "import pandas as pd"
   ]
  },
  {
   "cell_type": "code",
   "execution_count": 193,
   "id": "f1223640",
   "metadata": {},
   "outputs": [
    {
     "data": {
      "text/html": [
       "<div>\n",
       "<style scoped>\n",
       "    .dataframe tbody tr th:only-of-type {\n",
       "        vertical-align: middle;\n",
       "    }\n",
       "\n",
       "    .dataframe tbody tr th {\n",
       "        vertical-align: top;\n",
       "    }\n",
       "\n",
       "    .dataframe thead th {\n",
       "        text-align: right;\n",
       "    }\n",
       "</style>\n",
       "<table border=\"1\" class=\"dataframe\">\n",
       "  <thead>\n",
       "    <tr style=\"text-align: right;\">\n",
       "      <th></th>\n",
       "      <th>elf1</th>\n",
       "      <th>elf2</th>\n",
       "    </tr>\n",
       "  </thead>\n",
       "  <tbody>\n",
       "    <tr>\n",
       "      <th>0</th>\n",
       "      <td>[67, 84]</td>\n",
       "      <td>[66, 87]</td>\n",
       "    </tr>\n",
       "    <tr>\n",
       "      <th>1</th>\n",
       "      <td>[70, 70]</td>\n",
       "      <td>[40, 69]</td>\n",
       "    </tr>\n",
       "    <tr>\n",
       "      <th>2</th>\n",
       "      <td>[32, 77]</td>\n",
       "      <td>[31, 78]</td>\n",
       "    </tr>\n",
       "    <tr>\n",
       "      <th>3</th>\n",
       "      <td>[10, 84]</td>\n",
       "      <td>[11, 96]</td>\n",
       "    </tr>\n",
       "    <tr>\n",
       "      <th>4</th>\n",
       "      <td>[15, 95]</td>\n",
       "      <td>[14, 94]</td>\n",
       "    </tr>\n",
       "  </tbody>\n",
       "</table>\n",
       "</div>"
      ],
      "text/plain": [
       "       elf1      elf2\n",
       "0  [67, 84]  [66, 87]\n",
       "1  [70, 70]  [40, 69]\n",
       "2  [32, 77]  [31, 78]\n",
       "3  [10, 84]  [11, 96]\n",
       "4  [15, 95]  [14, 94]"
      ]
     },
     "execution_count": 193,
     "metadata": {},
     "output_type": "execute_result"
    }
   ],
   "source": [
    "camp_df = pd.read_csv('adventofcode.com_2022_day_4_input.txt', names= ['elf1', 'elf2'])\n",
    "\n",
    "camp_df = camp_df.apply(\n",
    "    lambda x: [[int(pair[0]), int(pair[1])] for  pair in x.str.split('-')]\n",
    ")\n",
    "\n",
    "camp_df.head()"
   ]
  },
  {
   "cell_type": "code",
   "execution_count": 190,
   "id": "86a48e74",
   "metadata": {},
   "outputs": [],
   "source": [
    "containment_lst = verify_containment(camp_df.elf1, camp_df.elf2)\n",
    "\n",
    "camp_df['has_full_containment'], camp_df['has_partial_containment'] = containment_lst"
   ]
  },
  {
   "cell_type": "code",
   "execution_count": 191,
   "id": "a8d58a85",
   "metadata": {},
   "outputs": [
    {
     "data": {
      "text/html": [
       "<div>\n",
       "<style scoped>\n",
       "    .dataframe tbody tr th:only-of-type {\n",
       "        vertical-align: middle;\n",
       "    }\n",
       "\n",
       "    .dataframe tbody tr th {\n",
       "        vertical-align: top;\n",
       "    }\n",
       "\n",
       "    .dataframe thead th {\n",
       "        text-align: right;\n",
       "    }\n",
       "</style>\n",
       "<table border=\"1\" class=\"dataframe\">\n",
       "  <thead>\n",
       "    <tr style=\"text-align: right;\">\n",
       "      <th></th>\n",
       "      <th>elf1</th>\n",
       "      <th>elf2</th>\n",
       "      <th>has_full_containment</th>\n",
       "      <th>has_partial_containment</th>\n",
       "    </tr>\n",
       "  </thead>\n",
       "  <tbody>\n",
       "    <tr>\n",
       "      <th>895</th>\n",
       "      <td>[15, 16]</td>\n",
       "      <td>[15, 22]</td>\n",
       "      <td>1</td>\n",
       "      <td>1</td>\n",
       "    </tr>\n",
       "    <tr>\n",
       "      <th>257</th>\n",
       "      <td>[6, 6]</td>\n",
       "      <td>[10, 89]</td>\n",
       "      <td>0</td>\n",
       "      <td>0</td>\n",
       "    </tr>\n",
       "    <tr>\n",
       "      <th>229</th>\n",
       "      <td>[30, 60]</td>\n",
       "      <td>[58, 64]</td>\n",
       "      <td>0</td>\n",
       "      <td>1</td>\n",
       "    </tr>\n",
       "    <tr>\n",
       "      <th>111</th>\n",
       "      <td>[69, 79]</td>\n",
       "      <td>[68, 92]</td>\n",
       "      <td>1</td>\n",
       "      <td>1</td>\n",
       "    </tr>\n",
       "    <tr>\n",
       "      <th>921</th>\n",
       "      <td>[10, 36]</td>\n",
       "      <td>[35, 99]</td>\n",
       "      <td>0</td>\n",
       "      <td>1</td>\n",
       "    </tr>\n",
       "  </tbody>\n",
       "</table>\n",
       "</div>"
      ],
      "text/plain": [
       "         elf1      elf2  has_full_containment  has_partial_containment\n",
       "895  [15, 16]  [15, 22]                     1                        1\n",
       "257    [6, 6]  [10, 89]                     0                        0\n",
       "229  [30, 60]  [58, 64]                     0                        1\n",
       "111  [69, 79]  [68, 92]                     1                        1\n",
       "921  [10, 36]  [35, 99]                     0                        1"
      ]
     },
     "execution_count": 191,
     "metadata": {},
     "output_type": "execute_result"
    }
   ],
   "source": [
    "# final dataset\n",
    "camp_df.sample(5)"
   ]
  },
  {
   "cell_type": "code",
   "execution_count": 192,
   "id": "55cd5113",
   "metadata": {},
   "outputs": [
    {
     "name": "stdout",
     "output_type": "stream",
     "text": [
      "the full containment total is: 582\n",
      "the partial containment total is: 893\n"
     ]
    }
   ],
   "source": [
    "set_full_containment_total = sum(containment_lst[0])\n",
    "set_partial_containment_total = sum(containment_lst[1])\n",
    "\n",
    "\n",
    "print(f\"the full containment total is: {set_full_containment_total}\")\n",
    "print(f\"the partial containment total is: {set_partial_containment_total}\")"
   ]
  }
 ],
 "metadata": {
  "kernelspec": {
   "display_name": "Python 3 (ipykernel)",
   "language": "python",
   "name": "python3"
  },
  "language_info": {
   "codemirror_mode": {
    "name": "ipython",
    "version": 3
   },
   "file_extension": ".py",
   "mimetype": "text/x-python",
   "name": "python",
   "nbconvert_exporter": "python",
   "pygments_lexer": "ipython3",
   "version": "3.10.11"
  }
 },
 "nbformat": 4,
 "nbformat_minor": 5
}
