{
 "cells": [
  {
   "cell_type": "markdown",
   "id": "2a2fb618",
   "metadata": {},
   "source": [
    "# Day 5: Supply Stacks"
   ]
  },
  {
   "cell_type": "markdown",
   "id": "33d751de",
   "metadata": {},
   "source": [
    "## Part One"
   ]
  },
  {
   "cell_type": "markdown",
   "id": "01be1a8c",
   "metadata": {},
   "source": [
    "The expedition can depart as soon as the final supplies have been unloaded from the ships. Supplies are stored in stacks of marked crates, but because the needed supplies are buried under many other crates, the crates need to be rearranged.\n",
    "\n",
    "The ship has a giant cargo crane capable of moving crates between stacks. To ensure none of the crates get crushed or fall over, the crane operator will rearrange them in a series of carefully-planned steps. After the crates are rearranged, the desired crates will be at the top of each stack.\n",
    "\n",
    "The Elves don't want to interrupt the crane operator during this delicate procedure, but they forgot to ask her which crate will end up where, and they want to be ready to unload them as soon as possible so they can embark.\n",
    "\n",
    "They do, however, have a drawing of the starting stacks of crates and the rearrangement procedure (your puzzle input). For example:\n",
    "\n"
   ]
  },
  {
   "cell_type": "raw",
   "id": "c8e5ad67",
   "metadata": {},
   "source": [
    "    [D]    \n",
    "[N] [C]    \n",
    "[Z] [M] [P]\n",
    " 1   2   3 \n",
    "\n",
    "move 1 from 2 to 1\n",
    "move 3 from 1 to 3\n",
    "move 2 from 2 to 1\n",
    "move 1 from 1 to 2"
   ]
  },
  {
   "cell_type": "markdown",
   "id": "68cd15b0",
   "metadata": {},
   "source": [
    "In this example, there are three stacks of crates. Stack 1 contains two crates: crate Z is on the bottom, and crate N is on top. Stack 2 contains three crates; from bottom to top, they are crates M, C, and D. Finally, stack 3 contains a single crate, P.\n",
    "\n",
    "Then, the rearrangement procedure is given. In each step of the procedure, a quantity of crates is moved from one stack to a different stack. In the first step of the above rearrangement procedure, one crate is moved from stack 2 to stack 1, resulting in this configuration:"
   ]
  },
  {
   "cell_type": "raw",
   "id": "100baae0",
   "metadata": {},
   "source": [
    "[D]        \n",
    "[N] [C]    \n",
    "[Z] [M] [P]\n",
    " 1   2   3 \n"
   ]
  },
  {
   "cell_type": "markdown",
   "id": "984e6368",
   "metadata": {},
   "source": [
    "In the second step, three crates are moved from stack 1 to stack 3. Crates are moved one at a time, so the first crate to be moved (D) ends up below the second and third crates:"
   ]
  },
  {
   "cell_type": "raw",
   "id": "baa8571b",
   "metadata": {},
   "source": [
    "        [Z]\n",
    "        [N]\n",
    "    [C] [D]\n",
    "    [M] [P]\n",
    " 1   2   3"
   ]
  },
  {
   "cell_type": "markdown",
   "id": "f06ce1bc",
   "metadata": {},
   "source": [
    "Then, both crates are moved from stack 2 to stack 1. Again, because crates are moved one at a time, crate C ends up below crate M:\n",
    "\n"
   ]
  },
  {
   "cell_type": "raw",
   "id": "e2492e75",
   "metadata": {},
   "source": [
    "        [Z]\n",
    "        [N]\n",
    "[M]     [D]\n",
    "[C]     [P]\n",
    " 1   2   3"
   ]
  },
  {
   "cell_type": "markdown",
   "id": "8c2cd8b3",
   "metadata": {},
   "source": [
    "Finally, one crate is moved from stack 1 to stack 2:"
   ]
  },
  {
   "cell_type": "raw",
   "id": "a7e098c3",
   "metadata": {},
   "source": [
    "        [Z]\n",
    "        [N]\n",
    "        [D]\n",
    "[C] [M] [P]\n",
    " 1   2   3"
   ]
  },
  {
   "cell_type": "markdown",
   "id": "16dc0d82",
   "metadata": {},
   "source": [
    "The Elves just need to know which crate will end up on top of each stack; in this example, the top crates are C in stack 1, M in stack 2, and Z in stack 3, so you should combine these together and give the Elves the message CMZ.\n",
    "\n",
    "After the rearrangement procedure completes, what crate ends up on top of each stack?"
   ]
  },
  {
   "cell_type": "markdown",
   "id": "2ed52390",
   "metadata": {},
   "source": [
    "## Part Two"
   ]
  },
  {
   "cell_type": "markdown",
   "id": "e39e7263",
   "metadata": {},
   "source": [
    "As you watch the crane operator expertly rearrange the crates, you notice the process isn't following your prediction.\n",
    "\n",
    "Some mud was covering the writing on the side of the crane, and you quickly wipe it away. The crane isn't a CrateMover 9000 - it's a CrateMover 9001.\n",
    "\n",
    "The CrateMover 9001 is notable for many new and exciting features: air conditioning, leather seats, an extra cup holder, and the ability to pick up and move multiple crates at once.\n",
    "\n",
    "Again considering the example above, the crates begin in the same configuration:"
   ]
  },
  {
   "cell_type": "raw",
   "id": "06869d6a",
   "metadata": {},
   "source": [
    "    [D]    \n",
    "[N] [C]    \n",
    "[Z] [M] [P]\n",
    " 1   2   3 "
   ]
  },
  {
   "cell_type": "markdown",
   "id": "68b070cf",
   "metadata": {},
   "source": [
    "Moving a single crate from stack 2 to stack 1 behaves the same as before:"
   ]
  },
  {
   "cell_type": "raw",
   "id": "625e416c",
   "metadata": {},
   "source": [
    "[D]        \n",
    "[N] [C]    \n",
    "[Z] [M] [P]\n",
    " 1   2   3 "
   ]
  },
  {
   "cell_type": "markdown",
   "id": "90ea9f47",
   "metadata": {},
   "source": [
    "However, the action of moving three crates from stack 1 to stack 3 means that those three moved crates stay in the same order, resulting in this new configuration:"
   ]
  },
  {
   "cell_type": "raw",
   "id": "47997fe9",
   "metadata": {},
   "source": [
    "        [D]\n",
    "        [N]\n",
    "    [C] [Z]\n",
    "    [M] [P]\n",
    " 1   2   3"
   ]
  },
  {
   "cell_type": "markdown",
   "id": "1e100e74",
   "metadata": {},
   "source": [
    "Next, as both crates are moved from stack 2 to stack 1, they retain their order as well:"
   ]
  },
  {
   "cell_type": "raw",
   "id": "710dfc14",
   "metadata": {},
   "source": [
    "        [D]\n",
    "        [N]\n",
    "[C]     [Z]\n",
    "[M]     [P]\n",
    " 1   2   3"
   ]
  },
  {
   "cell_type": "markdown",
   "id": "6bdf75f3",
   "metadata": {},
   "source": [
    "Finally, a single crate is still moved from stack 1 to stack 2, but now it's crate C that gets moved:"
   ]
  },
  {
   "cell_type": "raw",
   "id": "e964ba22",
   "metadata": {},
   "source": [
    "        [D]\n",
    "        [N]\n",
    "        [Z]\n",
    "[M] [C] [P]\n",
    " 1   2   3"
   ]
  },
  {
   "cell_type": "markdown",
   "id": "ca4aa010",
   "metadata": {},
   "source": [
    "In this example, the CrateMover 9001 has put the crates in a totally different order: MCD.\n",
    "\n",
    "Before the rearrangement process finishes, update your simulation so that the Elves know where they should stand to be ready to unload the final supplies. After the rearrangement procedure completes, what crate ends up on top of each stack?"
   ]
  },
  {
   "cell_type": "markdown",
   "id": "1443ab1a",
   "metadata": {},
   "source": [
    "##  Auxiliary functions"
   ]
  },
  {
   "cell_type": "code",
   "execution_count": 1,
   "id": "e831f63f",
   "metadata": {},
   "outputs": [],
   "source": [
    "def remove_nan(stacks:list):\n",
    "    \n",
    "    num_arrays = len(stacks)\n",
    "    stack_no_nan = [[]] * num_arrays\n",
    "    \n",
    "    for array_index, array in enumerate(stacks):\n",
    "        stack_no_nan[array_index] = [element for element in array if element !=0]\n",
    "           \n",
    "    return stack_no_nan\n",
    "\n"
   ]
  },
  {
   "cell_type": "code",
   "execution_count": 2,
   "id": "c2d6c08d",
   "metadata": {},
   "outputs": [],
   "source": [
    "def crate_mover_9000(stacks:list, size:int, move_from:int, move_to:int):\n",
    "    new_stack = stacks\n",
    "    \n",
    "    for index in range(size):\n",
    "        removed_element = new_stack[move_from - 1].pop(0)\n",
    "        new_stack[move_to - 1].insert(0, removed_element)\n",
    "        \n",
    "    return new_stack\n",
    "\n"
   ]
  },
  {
   "cell_type": "code",
   "execution_count": 3,
   "id": "ebd187f6",
   "metadata": {},
   "outputs": [],
   "source": [
    "def crate_mover_9001(stacks:list, size:int, move_from:int, move_to:int):\n",
    "    new_stack = stacks\n",
    "    \n",
    "    \n",
    "    \n",
    "    for index in range(size):\n",
    "        removed_element = new_stack[move_from - 1].pop(size - 1 - index)\n",
    "        new_stack[move_to - 1].insert(0, removed_element)\n",
    "        \n",
    "    return new_stack\n",
    "\n"
   ]
  },
  {
   "cell_type": "markdown",
   "id": "8c2e71b9",
   "metadata": {},
   "source": [
    "## Answer"
   ]
  },
  {
   "cell_type": "markdown",
   "id": "532ebb89",
   "metadata": {},
   "source": [
    "### Data Cleaning"
   ]
  },
  {
   "cell_type": "code",
   "execution_count": 4,
   "id": "aa7b7ab8",
   "metadata": {},
   "outputs": [],
   "source": [
    "import pandas as pd"
   ]
  },
  {
   "cell_type": "code",
   "execution_count": 5,
   "id": "4be28df8",
   "metadata": {},
   "outputs": [
    {
     "data": {
      "text/html": [
       "<div>\n",
       "<style scoped>\n",
       "    .dataframe tbody tr th:only-of-type {\n",
       "        vertical-align: middle;\n",
       "    }\n",
       "\n",
       "    .dataframe tbody tr th {\n",
       "        vertical-align: top;\n",
       "    }\n",
       "\n",
       "    .dataframe thead th {\n",
       "        text-align: right;\n",
       "    }\n",
       "</style>\n",
       "<table border=\"1\" class=\"dataframe\">\n",
       "  <thead>\n",
       "    <tr style=\"text-align: right;\">\n",
       "      <th>8</th>\n",
       "      <th>1</th>\n",
       "      <th>2</th>\n",
       "      <th>3</th>\n",
       "      <th>4</th>\n",
       "      <th>5</th>\n",
       "      <th>6</th>\n",
       "      <th>7</th>\n",
       "      <th>8</th>\n",
       "      <th>9</th>\n",
       "    </tr>\n",
       "  </thead>\n",
       "  <tbody>\n",
       "    <tr>\n",
       "      <th>0</th>\n",
       "      <td>0</td>\n",
       "      <td>H</td>\n",
       "      <td>0</td>\n",
       "      <td>0</td>\n",
       "      <td>D</td>\n",
       "      <td>0</td>\n",
       "      <td>P</td>\n",
       "      <td>0</td>\n",
       "      <td>0</td>\n",
       "    </tr>\n",
       "    <tr>\n",
       "      <th>1</th>\n",
       "      <td>W</td>\n",
       "      <td>B</td>\n",
       "      <td>0</td>\n",
       "      <td>0</td>\n",
       "      <td>C</td>\n",
       "      <td>Z</td>\n",
       "      <td>D</td>\n",
       "      <td>0</td>\n",
       "      <td>0</td>\n",
       "    </tr>\n",
       "    <tr>\n",
       "      <th>2</th>\n",
       "      <td>T</td>\n",
       "      <td>J</td>\n",
       "      <td>0</td>\n",
       "      <td>T</td>\n",
       "      <td>J</td>\n",
       "      <td>D</td>\n",
       "      <td>J</td>\n",
       "      <td>0</td>\n",
       "      <td>0</td>\n",
       "    </tr>\n",
       "    <tr>\n",
       "      <th>3</th>\n",
       "      <td>H</td>\n",
       "      <td>Z</td>\n",
       "      <td>0</td>\n",
       "      <td>H</td>\n",
       "      <td>H</td>\n",
       "      <td>W</td>\n",
       "      <td>S</td>\n",
       "      <td>0</td>\n",
       "      <td>M</td>\n",
       "    </tr>\n",
       "    <tr>\n",
       "      <th>4</th>\n",
       "      <td>P</td>\n",
       "      <td>F</td>\n",
       "      <td>R</td>\n",
       "      <td>P</td>\n",
       "      <td>Z</td>\n",
       "      <td>F</td>\n",
       "      <td>W</td>\n",
       "      <td>0</td>\n",
       "      <td>F</td>\n",
       "    </tr>\n",
       "    <tr>\n",
       "      <th>5</th>\n",
       "      <td>J</td>\n",
       "      <td>V</td>\n",
       "      <td>T</td>\n",
       "      <td>N</td>\n",
       "      <td>F</td>\n",
       "      <td>G</td>\n",
       "      <td>Z</td>\n",
       "      <td>S</td>\n",
       "      <td>S</td>\n",
       "    </tr>\n",
       "    <tr>\n",
       "      <th>6</th>\n",
       "      <td>C</td>\n",
       "      <td>R</td>\n",
       "      <td>P</td>\n",
       "      <td>S</td>\n",
       "      <td>V</td>\n",
       "      <td>M</td>\n",
       "      <td>V</td>\n",
       "      <td>D</td>\n",
       "      <td>Z</td>\n",
       "    </tr>\n",
       "    <tr>\n",
       "      <th>7</th>\n",
       "      <td>F</td>\n",
       "      <td>G</td>\n",
       "      <td>H</td>\n",
       "      <td>Z</td>\n",
       "      <td>N</td>\n",
       "      <td>P</td>\n",
       "      <td>M</td>\n",
       "      <td>N</td>\n",
       "      <td>D</td>\n",
       "    </tr>\n",
       "  </tbody>\n",
       "</table>\n",
       "</div>"
      ],
      "text/plain": [
       "8  1  2  3  4  5  6  7  8  9\n",
       "0  0  H  0  0  D  0  P  0  0\n",
       "1  W  B  0  0  C  Z  D  0  0\n",
       "2  T  J  0  T  J  D  J  0  0\n",
       "3  H  Z  0  H  H  W  S  0  M\n",
       "4  P  F  R  P  Z  F  W  0  F\n",
       "5  J  V  T  N  F  G  Z  S  S\n",
       "6  C  R  P  S  V  M  V  D  Z\n",
       "7  F  G  H  Z  N  P  M  N  D"
      ]
     },
     "execution_count": 5,
     "metadata": {},
     "output_type": "execute_result"
    }
   ],
   "source": [
    "widths = [4,4,4,4,4,4,4,4,4]\n",
    "\n",
    "stack = pd.read_fwf('adventofcode.com_2022_day_5_input.txt', nrows=9, header=None, widths=widths)\n",
    "\n",
    "stack.columns = stack.loc[8,:]\n",
    "\n",
    "stack.drop(index=8, inplace=True) \n",
    "\n",
    "stack.fillna(0, inplace=True)\n",
    "\n",
    "stack.replace(to_replace=r'\\[|\\]', value='', regex=True, inplace=True)\n",
    "\n",
    "stack"
   ]
  },
  {
   "cell_type": "code",
   "execution_count": 6,
   "id": "f5d58906",
   "metadata": {},
   "outputs": [],
   "source": [
    "stack_moves = pd.read_table('adventofcode.com_2022_day_5_input.txt', skiprows=10, header=None, names=['moves'])\n",
    "\n",
    "stack_moves.replace(to_replace=r'move ', value='', regex=True,inplace=True)\n",
    "\n",
    "stack_moves.replace(to_replace=r' from | to ', value=',', regex=True,inplace=True)\n",
    "\n",
    "stack_moves['moves'] = stack_moves.moves.str.split(',')"
   ]
  },
  {
   "cell_type": "code",
   "execution_count": 7,
   "id": "3a05f408",
   "metadata": {},
   "outputs": [
    {
     "data": {
      "text/html": [
       "<div>\n",
       "<style scoped>\n",
       "    .dataframe tbody tr th:only-of-type {\n",
       "        vertical-align: middle;\n",
       "    }\n",
       "\n",
       "    .dataframe tbody tr th {\n",
       "        vertical-align: top;\n",
       "    }\n",
       "\n",
       "    .dataframe thead th {\n",
       "        text-align: right;\n",
       "    }\n",
       "</style>\n",
       "<table border=\"1\" class=\"dataframe\">\n",
       "  <thead>\n",
       "    <tr style=\"text-align: right;\">\n",
       "      <th></th>\n",
       "      <th>moves</th>\n",
       "    </tr>\n",
       "  </thead>\n",
       "  <tbody>\n",
       "    <tr>\n",
       "      <th>0</th>\n",
       "      <td>[2, 8, 2]</td>\n",
       "    </tr>\n",
       "    <tr>\n",
       "      <th>1</th>\n",
       "      <td>[3, 9, 2]</td>\n",
       "    </tr>\n",
       "    <tr>\n",
       "      <th>2</th>\n",
       "      <td>[1, 3, 8]</td>\n",
       "    </tr>\n",
       "    <tr>\n",
       "      <th>3</th>\n",
       "      <td>[5, 1, 7]</td>\n",
       "    </tr>\n",
       "    <tr>\n",
       "      <th>4</th>\n",
       "      <td>[2, 9, 2]</td>\n",
       "    </tr>\n",
       "  </tbody>\n",
       "</table>\n",
       "</div>"
      ],
      "text/plain": [
       "       moves\n",
       "0  [2, 8, 2]\n",
       "1  [3, 9, 2]\n",
       "2  [1, 3, 8]\n",
       "3  [5, 1, 7]\n",
       "4  [2, 9, 2]"
      ]
     },
     "execution_count": 7,
     "metadata": {},
     "output_type": "execute_result"
    }
   ],
   "source": [
    "stack_moves.head()"
   ]
  },
  {
   "cell_type": "markdown",
   "id": "5365a971",
   "metadata": {},
   "source": [
    "### Answer part one"
   ]
  },
  {
   "cell_type": "code",
   "execution_count": 8,
   "id": "234b9685",
   "metadata": {},
   "outputs": [],
   "source": [
    "stack_lst = remove_nan(stack.values.T.tolist())\n",
    "\n",
    "for index, row in stack_moves.iterrows():\n",
    "    new_stack = crate_mover_9000(stack_lst, int(row[0][0]), int(row[0][1]), int(row[0][2]))"
   ]
  },
  {
   "cell_type": "code",
   "execution_count": 9,
   "id": "0f671397",
   "metadata": {},
   "outputs": [],
   "source": [
    "top_stacks = []\n",
    "\n",
    "for array in new_stack:\n",
    "    top_stacks.append(array[0])"
   ]
  },
  {
   "cell_type": "code",
   "execution_count": 10,
   "id": "7026b197",
   "metadata": {},
   "outputs": [
    {
     "name": "stdout",
     "output_type": "stream",
     "text": [
      "The top of each stack in order using the CrateMover 9000 is: SPFMVDTZT\n"
     ]
    }
   ],
   "source": [
    "top_stacks = ''.join(top_stacks)\n",
    "\n",
    "print(f\"The top of each stack in order using the CrateMover 9000 is: {top_stacks}\")"
   ]
  },
  {
   "cell_type": "markdown",
   "id": "0faeada9",
   "metadata": {},
   "source": [
    "### Answer part two"
   ]
  },
  {
   "cell_type": "code",
   "execution_count": 11,
   "id": "aa816c7c",
   "metadata": {},
   "outputs": [],
   "source": [
    "stack_lst = remove_nan(stack.values.T.tolist())\n",
    "\n",
    "for index, row in stack_moves.iterrows():\n",
    "    new_stack = crate_mover_9001(stack_lst, int(row[0][0]), int(row[0][1]), int(row[0][2]))"
   ]
  },
  {
   "cell_type": "code",
   "execution_count": 12,
   "id": "73d053a0",
   "metadata": {},
   "outputs": [],
   "source": [
    "top_stacks = []\n",
    "\n",
    "for array in new_stack:\n",
    "    top_stacks.append(array[0])"
   ]
  },
  {
   "cell_type": "code",
   "execution_count": 13,
   "id": "db1adcc9",
   "metadata": {},
   "outputs": [
    {
     "name": "stdout",
     "output_type": "stream",
     "text": [
      "The top of each stack in order using the CrateMover 9001 is: ZFSJBPRFP\n"
     ]
    }
   ],
   "source": [
    "top_stacks = ''.join(top_stacks)\n",
    "\n",
    "print(f\"The top of each stack in order using the CrateMover 9001 is: {top_stacks}\")"
   ]
  }
 ],
 "metadata": {
  "kernelspec": {
   "display_name": "Python 3 (ipykernel)",
   "language": "python",
   "name": "python3"
  },
  "language_info": {
   "codemirror_mode": {
    "name": "ipython",
    "version": 3
   },
   "file_extension": ".py",
   "mimetype": "text/x-python",
   "name": "python",
   "nbconvert_exporter": "python",
   "pygments_lexer": "ipython3",
   "version": "3.10.11"
  }
 },
 "nbformat": 4,
 "nbformat_minor": 5
}
