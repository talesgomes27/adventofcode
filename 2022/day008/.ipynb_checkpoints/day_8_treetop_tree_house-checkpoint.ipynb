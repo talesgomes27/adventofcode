{
 "cells": [
  {
   "cell_type": "code",
   "execution_count": 1,
   "id": "fa4a6808",
   "metadata": {},
   "outputs": [],
   "source": [
    "import pandas as pd\n",
    "import numpy as np"
   ]
  },
  {
   "cell_type": "code",
   "execution_count": 2,
   "id": "0253b014",
   "metadata": {},
   "outputs": [],
   "source": [
    "with open('adventofcode.com_2022_day_8_input.txt', 'r') as file:\n",
    "    trees = file.read().splitlines()\n",
    "    tree_map = []\n",
    "    \n",
    "_ = [tree_map.append([*line]) for line in trees]\n",
    "\n",
    "tree_map_df = pd.DataFrame(tree_map)\n",
    "tree_map_df = tree_map_df.astype('int')\n",
    "\n",
    "tree_matrix = tree_map_df.values"
   ]
  },
  {
   "cell_type": "markdown",
   "id": "89eee929",
   "metadata": {},
   "source": [
    "## Part One"
   ]
  },
  {
   "cell_type": "code",
   "execution_count": 9,
   "id": "72c50db5",
   "metadata": {},
   "outputs": [
    {
     "name": "stdout",
     "output_type": "stream",
     "text": [
      " That is 1681 visible trees\n"
     ]
    }
   ],
   "source": [
    "tree_cp = tree_map_df.copy()\n",
    "n_row, n_col = tree_map_df.shape\n",
    "\n",
    "\n",
    "visible_trees = 0\n",
    "\n",
    "for row_i in range(1, n_row - 1):\n",
    "    for col_i in range(1, n_col - 1):\n",
    "        \n",
    "        row = tree_matrix[row_i,:]\n",
    "        col =  tree_matrix[:, col_i]\n",
    "        \n",
    "        height_tree = tree_matrix[row_i, col_i]\n",
    "        \n",
    "        right = row[col_i + 1:]\n",
    "        left = row[:col_i]\n",
    "        up = col[:row_i]\n",
    "        down = col[row_i + 1:]\n",
    "        \n",
    "        visible_from_right = (right.size > 0 and height_tree > right.max())\n",
    "        visible_from_left = (left.size > 0 and height_tree > left.max())\n",
    "        visible_from_up = (up.size > 0 and height_tree > up.max())\n",
    "        visible_from_down = (down.size > 0 and height_tree > down.max())\n",
    "        \n",
    "        if visible_from_right or visible_from_left or visible_from_up or visible_from_down:\n",
    "            visible_trees += 1\n",
    "        \n",
    "\n",
    "                 \n",
    "part_one = visible_trees + 2 * n_row + 2 * (n_col - 2)\n",
    "print(f\" That is {part_one} visible trees\")"
   ]
  },
  {
   "cell_type": "markdown",
   "id": "6ded31d7",
   "metadata": {},
   "source": [
    "## Part Two"
   ]
  },
  {
   "cell_type": "code",
   "execution_count": 11,
   "id": "bcf9f88d",
   "metadata": {},
   "outputs": [
    {
     "name": "stdout",
     "output_type": "stream",
     "text": [
      "The maximun scenic score is 201684\n"
     ]
    }
   ],
   "source": [
    "visible_r, visible_u, visible_d, visible_l = 0,0,0,0\n",
    "scenic_score_temp: int = 0\n",
    "scenic_score_final: int = 0\n",
    "    \n",
    "for row_i in range(1, n_row-1):\n",
    "    for col_i in range(1, n_col-1):\n",
    "        \n",
    "        row = tree_matrix[row_i,:]\n",
    "        col =  tree_matrix[:, col_i]\n",
    "        \n",
    "        height_tree = tree_matrix[row_i, col_i]\n",
    "        \n",
    "        right = row[col_i + 1:]\n",
    "        left = row[:col_i]\n",
    "        up = col[:row_i]\n",
    "        down = col[row_i + 1:]\n",
    "\n",
    "        left = np.flip(left)    \n",
    "        up = np.flip(up)\n",
    "        \n",
    "        \n",
    "        if right.max() >= height_tree:\n",
    "            visible_r = np.argmax(right >= height_tree) + 1     \n",
    "        else:\n",
    "            visible_r = right.size\n",
    "\n",
    "        if left.max() >= height_tree:\n",
    "            visible_l = np.argmax(left >= height_tree) + 1     \n",
    "        else:\n",
    "            visible_l = left.size\n",
    "\n",
    "        if up.max() >= height_tree:\n",
    "            visible_u = np.argmax(up >= height_tree) + 1     \n",
    "        else:\n",
    "            visible_u = up.size\n",
    "\n",
    "        if down.max() >= height_tree:\n",
    "            visible_d = np.argmax(down >= height_tree) + 1     \n",
    "        else:\n",
    "            visible_d = down.size\n",
    "            \n",
    "\n",
    "        \n",
    "        scenic_score_temp = visible_d * visible_u * visible_l * visible_r\n",
    "\n",
    "        if scenic_score_temp > scenic_score_final:\n",
    "            scenic_score_final = scenic_score_temp\n",
    "            \n",
    "\n",
    "print(f\"The maximun scenic score is {scenic_score_final}\")"
   ]
  }
 ],
 "metadata": {
  "kernelspec": {
   "display_name": "Python 3 (ipykernel)",
   "language": "python",
   "name": "python3"
  },
  "language_info": {
   "codemirror_mode": {
    "name": "ipython",
    "version": 3
   },
   "file_extension": ".py",
   "mimetype": "text/x-python",
   "name": "python",
   "nbconvert_exporter": "python",
   "pygments_lexer": "ipython3",
   "version": "3.10.11"
  }
 },
 "nbformat": 4,
 "nbformat_minor": 5
}
